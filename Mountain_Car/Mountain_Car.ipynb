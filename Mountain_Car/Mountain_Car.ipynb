{
 "cells": [
  {
   "cell_type": "markdown",
   "id": "629e1059",
   "metadata": {},
   "source": [
    "**Importing Libraries**"
   ]
  },
  {
   "cell_type": "code",
   "execution_count": 1,
   "id": "7b86c65a",
   "metadata": {},
   "outputs": [],
   "source": [
    "import warnings\n",
    "warnings.filterwarnings(\"ignore\")\n",
    "import numpy as np \n",
    "import gym\n",
    "import torch\n",
    "import torch.nn as nn\n",
    "import torch.nn.functional as F\n",
    "from matplotlib import pyplot as plt\n",
    "import pickle \n",
    "import imageio"
   ]
  },
  {
   "cell_type": "markdown",
   "id": "18064b43",
   "metadata": {},
   "source": [
    "**Data Preparation**"
   ]
  },
  {
   "cell_type": "code",
   "execution_count": 2,
   "id": "216e6cec",
   "metadata": {},
   "outputs": [
    {
     "name": "stdout",
     "output_type": "stream",
     "text": [
      "Number of trajectories: 4\n"
     ]
    }
   ],
   "source": [
    "data_path = \"expert_data/human_demos_4_-111.0.pkl\"\n",
    "\n",
    "with open(data_path, 'rb') as f:\n",
    "    trajs = pickle.load(f)\n",
    "\n",
    "print(f\"Number of trajectories: {len(trajs)}\") "
   ]
  },
  {
   "cell_type": "markdown",
   "id": "4a4c391c",
   "metadata": {},
   "source": [
    "**Data Preparation**"
   ]
  },
  {
   "cell_type": "code",
   "execution_count": 3,
   "id": "886d7adb",
   "metadata": {},
   "outputs": [
    {
     "data": {
      "text/plain": [
       "((438, 2), (438,))"
      ]
     },
     "execution_count": 3,
     "metadata": {},
     "output_type": "execute_result"
    }
   ],
   "source": [
    "states=[]\n",
    "actions=[]\n",
    "for traj in trajs:\n",
    "    for state,action in traj:\n",
    "        states.append(state)\n",
    "        actions.append(action)\n",
    "\n",
    "states=np.array(states)\n",
    "actions=np.array(actions)\n",
    "\n",
    "states.shape,actions.shape"
   ]
  },
  {
   "cell_type": "code",
   "execution_count": 4,
   "id": "deec36d0",
   "metadata": {},
   "outputs": [
    {
     "data": {
      "text/plain": [
       "3"
      ]
     },
     "execution_count": 4,
     "metadata": {},
     "output_type": "execute_result"
    }
   ],
   "source": [
    "num_classes = np.max(actions)+1 \n",
    "num_classes"
   ]
  },
  {
   "cell_type": "code",
   "execution_count": 5,
   "id": "c4198d75",
   "metadata": {},
   "outputs": [
    {
     "data": {
      "text/plain": [
       "(torch.Size([64, 2]), torch.Size([64]))"
      ]
     },
     "execution_count": 5,
     "metadata": {},
     "output_type": "execute_result"
    }
   ],
   "source": [
    "data_loader = torch.utils.data.DataLoader( list(zip(states, actions)), batch_size=64, shuffle=True)\n",
    "\n",
    "batch=next(iter(data_loader))\n",
    "states,actions = batch\n",
    "states.shape,actions.shape"
   ]
  },
  {
   "cell_type": "markdown",
   "id": "da1b52cf",
   "metadata": {},
   "source": [
    "**Neural Net**"
   ]
  },
  {
   "cell_type": "code",
   "execution_count": 6,
   "id": "70d56fe9",
   "metadata": {},
   "outputs": [],
   "source": [
    "class BcNet(nn.Module):\n",
    "    def __init__(self, state_dim, action_dim):\n",
    "        super(BcNet, self).__init__()\n",
    "        self.layer1 = nn.Linear(state_dim, 64)\n",
    "        self.layer2 = nn.Linear(64, 32) \n",
    "        self.layer3 = nn.Linear(32, action_dim)\n",
    "        \n",
    "    def forward(self, x):\n",
    "        x = F.relu(self.layer1(x))\n",
    "        x = F.relu(self.layer2(x)) \n",
    "        x = self.layer3(x)\n",
    "        # x = F.softmax(x, dim=1)\n",
    "        return x"
   ]
  },
  {
   "cell_type": "markdown",
   "id": "77aa8761",
   "metadata": {},
   "source": [
    "**Training Setup**"
   ]
  },
  {
   "cell_type": "code",
   "execution_count": 7,
   "id": "412bc062",
   "metadata": {},
   "outputs": [],
   "source": [
    "bc= BcNet(2, 3)\n",
    "criterion = nn.CrossEntropyLoss()\n",
    "learning_rate = 0.01\n",
    "optimizer = torch.optim.Adam(bc.parameters(), lr = learning_rate)"
   ]
  },
  {
   "cell_type": "code",
   "execution_count": 8,
   "id": "5710fc27",
   "metadata": {},
   "outputs": [
    {
     "name": "stdout",
     "output_type": "stream",
     "text": [
      "iteration: 0, loss: 0.6967720985412598\n",
      "iteration: 10, loss: 0.5248939394950867\n",
      "iteration: 20, loss: 0.17399059236049652\n",
      "iteration: 30, loss: 0.06051889434456825\n",
      "iteration: 40, loss: 0.01703745871782303\n",
      "iteration: 50, loss: 0.13335222005844116\n",
      "iteration: 60, loss: 0.059711817651987076\n",
      "iteration: 70, loss: 0.038253799080848694\n",
      "iteration: 80, loss: 0.006528567988425493\n",
      "iteration: 90, loss: 0.07751794904470444\n",
      "iteration: 100, loss: 0.13059966266155243\n",
      "iteration: 110, loss: 0.02206268347799778\n",
      "iteration: 120, loss: 0.11455276608467102\n",
      "iteration: 130, loss: 0.0864592045545578\n",
      "iteration: 140, loss: 0.24288101494312286\n",
      "iteration: 150, loss: 0.07264873385429382\n",
      "iteration: 160, loss: 0.09686286002397537\n",
      "iteration: 170, loss: 0.034400034695863724\n",
      "iteration: 180, loss: 0.00991920754313469\n",
      "iteration: 190, loss: 0.12293247878551483\n",
      "iteration: 200, loss: 0.040878910571336746\n",
      "iteration: 210, loss: 0.08412448316812515\n",
      "iteration: 220, loss: 0.12110256403684616\n",
      "iteration: 230, loss: 0.07574222981929779\n",
      "iteration: 240, loss: 0.05467579513788223\n",
      "iteration: 250, loss: 0.034553300589323044\n"
     ]
    }
   ],
   "source": [
    "loss_list = []  \n",
    "n_epoch = 250\n",
    " \n",
    "for itr in range(0, n_epoch+1):\n",
    "    for batch_states, batch_actions in data_loader:\n",
    "        y_pred = bc(batch_states)\n",
    "        loss = criterion(y_pred, batch_actions)\n",
    "        optimizer.zero_grad()\n",
    "        loss.backward()\n",
    "        optimizer.step()\n",
    "        loss_list.append(loss.item())\n",
    "        \n",
    "    if itr % 10 == 0:\n",
    "        print(f'iteration: {itr}, loss: {loss.item()}')"
   ]
  },
  {
   "cell_type": "code",
   "execution_count": 9,
   "id": "6d830843",
   "metadata": {},
   "outputs": [
    {
     "data": {
      "text/plain": [
       "[<matplotlib.lines.Line2D at 0x168c892b0>]"
      ]
     },
     "execution_count": 9,
     "metadata": {},
     "output_type": "execute_result"
    },
    {
     "data": {
      "image/png": "[encoded data removed]",
      "text/plain": [
       "<Figure size 640x480 with 1 Axes>"
      ]
     },
     "metadata": {},
     "output_type": "display_data"
    }
   ],
   "source": [
    "plt.plot(loss_list)"
   ]
  },
  {
   "cell_type": "markdown",
   "id": "44882b23",
   "metadata": {},
   "source": [
    "**Accuracy**"
   ]
  },
  {
   "cell_type": "code",
   "execution_count": 10,
   "id": "27401eb0",
   "metadata": {},
   "outputs": [
    {
     "name": "stdout",
     "output_type": "stream",
     "text": [
      "training accuracy:  tensor(0.9844)\n"
     ]
    }
   ],
   "source": [
    "bc.eval()\n",
    "train_x=torch.tensor(states).float()\n",
    "train_y=torch.tensor(actions).long()\n",
    "with torch.no_grad():\n",
    "    y_pred = bc(train_x)\n",
    "    correct = (torch.argmax(y_pred, dim=1) == train_y ).type(torch.FloatTensor)\n",
    "    print('training accuracy: ', correct.mean())"
   ]
  },
  {
   "cell_type": "markdown",
   "id": "6ec623aa",
   "metadata": {},
   "source": [
    "**Testing**"
   ]
  },
  {
   "cell_type": "code",
   "execution_count": 11,
   "id": "f2adf6d5",
   "metadata": {},
   "outputs": [],
   "source": [
    "env_name='MountainCar-v0'"
   ]
  },
  {
   "cell_type": "code",
   "execution_count": 15,
   "id": "23fd31da",
   "metadata": {},
   "outputs": [],
   "source": [
    "def run(env_name, model, video_path=None, max_steps=1000):\n",
    "    env=gym.make(env_name, render_mode='human')\n",
    "\n",
    "    obs,_=env.reset()\n",
    "    rewards=0\n",
    "    step=0\n",
    "    for _ in range(max_steps):\n",
    "        step+=1\n",
    "        obs=torch.tensor(obs).float()\n",
    "        predict=model(obs)\n",
    "        action=torch.argmax(predict).item() \n",
    "        obs, reward, done, trunc,_ = env.step(action)\n",
    "\n",
    "        if video_path is not None:\n",
    "            image=env.render()\n",
    "\n",
    "        rewards+=reward\n",
    "        if done or trunc:\n",
    "            break\n",
    "\n",
    "    return {'reward':rewards, 'step':step-1}"
   ]
  },
  {
   "cell_type": "code",
   "execution_count": 17,
   "id": "bdd8c3ae",
   "metadata": {},
   "outputs": [
    {
     "name": "stdout",
     "output_type": "stream",
     "text": [
      "episode #0 reward: -112.00\n",
      "episode #1 reward: -112.00\n",
      "episode #2 reward: -115.00\n",
      "episode #3 reward: -112.00\n",
      "episode #4 reward: -112.00\n",
      "episode #5 reward: -111.00\n",
      "episode #6 reward: -112.00\n",
      "episode #7 reward: -112.00\n",
      "episode #8 reward: -111.00\n",
      "episode #9 reward: -112.00\n",
      "episode #10 reward: -112.00\n",
      "episode #11 reward: -117.00\n",
      "episode #12 reward: -121.00\n",
      "episode #13 reward: -114.00\n",
      "episode #14 reward: -110.00\n",
      "episode #15 reward: -111.00\n",
      "episode #16 reward: -113.00\n",
      "episode #17 reward: -112.00\n",
      "episode #18 reward: -112.00\n",
      "episode #19 reward: -112.00\n",
      "\n",
      " score: -112.75 +- 2.41\n"
     ]
    }
   ],
   "source": [
    "scores=[]\n",
    "n_trajectory=20\n",
    "for i in range(n_trajectory):\n",
    "    stats=run(env_name, bc)\n",
    "    rewards=stats['reward']\n",
    "    print(f'episode #{i} reward: {rewards:0.2f}')\n",
    "    scores.append(rewards)\n",
    "\n",
    "print(f'\\n score: {np.mean(scores):0.2f} +- {np.std(scores):0.2f}')"
   ]
  }
 ],
 "metadata": {
  "kernelspec": {
   "display_name": "Python 3 (ipykernel)",
   "language": "python",
   "name": "python3"
  },
  "language_info": {
   "codemirror_mode": {
    "name": "ipython",
    "version": 3
   },
   "file_extension": ".py",
   "mimetype": "text/x-python",
   "name": "python",
   "nbconvert_exporter": "python",
   "pygments_lexer": "ipython3",
   "version": "3.12.2"
  }
 },
 "nbformat": 4,
 "nbformat_minor": 5
}
